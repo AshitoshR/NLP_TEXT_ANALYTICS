{
  "nbformat": 4,
  "nbformat_minor": 0,
  "metadata": {
    "colab": {
      "provenance": []
    },
    "kernelspec": {
      "name": "python3",
      "display_name": "Python 3"
    },
    "language_info": {
      "name": "python"
    }
  },
  "cells": [
    {
      "cell_type": "markdown",
      "source": [
        "**TSWA Practical 4-  Basics of text analytics**"
      ],
      "metadata": {
        "id": "7B8euaruD6ZW"
      }
    },
    {
      "cell_type": "markdown",
      "source": [
        "### Working with Text\n",
        "### Types of strings\n",
        "### Simple Strings"
      ],
      "metadata": {
        "id": "P2ku5w9pEC5K"
      }
    },
    {
      "cell_type": "code",
      "source": [
        "simple_str1='Hello!!'+'I am a simple string'\n",
        "simple_str1"
      ],
      "metadata": {
        "id": "W28HHwiFEIGF",
        "outputId": "1dd5bd64-c5a5-4b91-c9dc-237f6fa62c23",
        "colab": {
          "base_uri": "https://localhost:8080/",
          "height": 36
        }
      },
      "execution_count": 1,
      "outputs": [
        {
          "output_type": "execute_result",
          "data": {
            "text/plain": [
              "'Hello!!I am a simple string'"
            ],
            "application/vnd.google.colaboratory.intrinsic+json": {
              "type": "string"
            }
          },
          "metadata": {},
          "execution_count": 1
        }
      ]
    },
    {
      "cell_type": "code",
      "source": [
        "multiline_str2='Hello!!\\n I am a simple string'\n",
        "print(multiline_str2)"
      ],
      "metadata": {
        "colab": {
          "base_uri": "https://localhost:8080/"
        },
        "id": "7DWEJJRrMKHT",
        "outputId": "334f41ff-3d4e-445a-cc5a-a5b4e983942b"
      },
      "execution_count": 2,
      "outputs": [
        {
          "output_type": "stream",
          "name": "stdout",
          "text": [
            "Hello!!\n",
            " I am a simple string\n"
          ]
        }
      ]
    },
    {
      "cell_type": "code",
      "source": [
        "# Extracting the text from the txt file\n",
        "Extract_str='/content/drive/MyDrive/text_data.txt'\n",
        "Extract_str\n",
        "#print(Extract_str)"
      ],
      "metadata": {
        "colab": {
          "base_uri": "https://localhost:8080/",
          "height": 36
        },
        "id": "ChCRkj15MzKA",
        "outputId": "7caa3f56-bd71-4d32-a4c5-470e2c37816e"
      },
      "execution_count": 3,
      "outputs": [
        {
          "output_type": "execute_result",
          "data": {
            "text/plain": [
              "'/content/drive/MyDrive/text_data.txt'"
            ],
            "application/vnd.google.colaboratory.intrinsic+json": {
              "type": "string"
            }
          },
          "metadata": {},
          "execution_count": 3
        }
      ]
    },
    {
      "cell_type": "code",
      "source": [
        "# Deriving the raw string(wihtout the quotes)\n",
        "raw_str=r'/content/drive/MyDrive/text_data.txt'\n",
        "print(raw_str)"
      ],
      "metadata": {
        "colab": {
          "base_uri": "https://localhost:8080/"
        },
        "id": "myQG2lDdNje6",
        "outputId": "61c846fb-8beb-4a1f-f7b1-c79c99eff0ef"
      },
      "execution_count": 4,
      "outputs": [
        {
          "output_type": "stream",
          "name": "stdout",
          "text": [
            "/content/drive/MyDrive/text_data.txt\n"
          ]
        }
      ]
    },
    {
      "cell_type": "code",
      "source": [
        "# Basic Opeartions on strings\n",
        "str1='Hello!!'+'and Welcome to '+'Text analytics!!'\n",
        "str1"
      ],
      "metadata": {
        "colab": {
          "base_uri": "https://localhost:8080/",
          "height": 36
        },
        "id": "-QyhGL1-OMkr",
        "outputId": "e1a554d8-9ada-4dfa-89eb-08c6eee0af41"
      },
      "execution_count": 5,
      "outputs": [
        {
          "output_type": "execute_result",
          "data": {
            "text/plain": [
              "'Hello!!and Welcome to Text analytics!!'"
            ],
            "application/vnd.google.colaboratory.intrinsic+json": {
              "type": "string"
            }
          },
          "metadata": {},
          "execution_count": 5
        }
      ]
    },
    {
      "cell_type": "code",
      "source": [
        "str2='Hello!!''and Welcome to ''Text analytics!!'\n",
        "str2"
      ],
      "metadata": {
        "colab": {
          "base_uri": "https://localhost:8080/",
          "height": 36
        },
        "id": "jCBOVLISOlqz",
        "outputId": "04b35128-b738-4377-fc49-dd573a65aef9"
      },
      "execution_count": 6,
      "outputs": [
        {
          "output_type": "execute_result",
          "data": {
            "text/plain": [
              "'Hello!!and Welcome to Text analytics!!'"
            ],
            "application/vnd.google.colaboratory.intrinsic+json": {
              "type": "string"
            }
          },
          "metadata": {},
          "execution_count": 6
        }
      ]
    },
    {
      "cell_type": "code",
      "source": [
        "# Getting multiline text\n",
        "print(str1+'\\n'+str2)"
      ],
      "metadata": {
        "colab": {
          "base_uri": "https://localhost:8080/"
        },
        "id": "qkSwBDUdOxiI",
        "outputId": "788e6cbe-7a12-46dc-d7db-226f4e9f99c2"
      },
      "execution_count": 7,
      "outputs": [
        {
          "output_type": "stream",
          "name": "stdout",
          "text": [
            "Hello!!and Welcome to Text analytics!!\n",
            "Hello!!and Welcome to Text analytics!!\n"
          ]
        }
      ]
    },
    {
      "cell_type": "code",
      "source": [
        "print(str1*2)"
      ],
      "metadata": {
        "colab": {
          "base_uri": "https://localhost:8080/"
        },
        "id": "8b0AbSInPB0M",
        "outputId": "14f0a0f1-31d2-42c9-9cad-f59bf250828f"
      },
      "execution_count": 8,
      "outputs": [
        {
          "output_type": "stream",
          "name": "stdout",
          "text": [
            "Hello!!and Welcome to Text analytics!!Hello!!and Welcome to Text analytics!!\n"
          ]
        }
      ]
    },
    {
      "cell_type": "code",
      "source": [
        "# Concatenating the multiple strings\n",
        "multiple_str=('This ''is ''the ''Text Analytics session.''\\n''Please feel free to ask the doubts')\n",
        "print(multiple_str)"
      ],
      "metadata": {
        "colab": {
          "base_uri": "https://localhost:8080/"
        },
        "id": "3JJuh6vHPNPt",
        "outputId": "267b40d2-5460-4ec5-c368-a71d17b6562e"
      },
      "execution_count": 9,
      "outputs": [
        {
          "output_type": "stream",
          "name": "stdout",
          "text": [
            "This is the Text Analytics session.\n",
            "Please feel free to ask the doubts\n"
          ]
        }
      ]
    },
    {
      "cell_type": "code",
      "source": [
        "# To find the length of the string\n",
        "print(len(multiple_str))"
      ],
      "metadata": {
        "colab": {
          "base_uri": "https://localhost:8080/"
        },
        "id": "q0DMD5meQBgs",
        "outputId": "f0d8855f-2025-41e4-ef7c-d1c4a25409f8"
      },
      "execution_count": 10,
      "outputs": [
        {
          "output_type": "stream",
          "name": "stdout",
          "text": [
            "70\n"
          ]
        }
      ]
    },
    {
      "cell_type": "code",
      "source": [
        "# The check for the substring in a string, which returns true or false\n",
        "'This' in multiple_str"
      ],
      "metadata": {
        "colab": {
          "base_uri": "https://localhost:8080/"
        },
        "id": "8kAmH7H4QRkk",
        "outputId": "c74e7b05-8ac4-4cce-9b4e-2867a469a7dd"
      },
      "execution_count": 11,
      "outputs": [
        {
          "output_type": "execute_result",
          "data": {
            "text/plain": [
              "True"
            ]
          },
          "metadata": {},
          "execution_count": 11
        }
      ]
    },
    {
      "cell_type": "code",
      "source": [
        "'Web' in multiple_str"
      ],
      "metadata": {
        "colab": {
          "base_uri": "https://localhost:8080/"
        },
        "id": "Yj6kiNkTQkyb",
        "outputId": "1d995776-f3ab-4b40-fc1c-bff1d8de23cd"
      },
      "execution_count": 12,
      "outputs": [
        {
          "output_type": "execute_result",
          "data": {
            "text/plain": [
              "False"
            ]
          },
          "metadata": {},
          "execution_count": 12
        }
      ]
    },
    {
      "cell_type": "code",
      "source": [
        "# To create a string for indexing and slicing\n",
        "str2='Python'\n",
        "for index, character in enumerate(str2):\n",
        "  print(character,index)"
      ],
      "metadata": {
        "colab": {
          "base_uri": "https://localhost:8080/"
        },
        "id": "UZrLYSQsQxXE",
        "outputId": "e49e302a-0116-4388-a7a6-3e4333514946"
      },
      "execution_count": 13,
      "outputs": [
        {
          "output_type": "stream",
          "name": "stdout",
          "text": [
            "P 0\n",
            "y 1\n",
            "t 2\n",
            "h 3\n",
            "o 4\n",
            "n 5\n"
          ]
        }
      ]
    },
    {
      "cell_type": "code",
      "source": [
        "# Print the characters in the orginal order\n",
        "str2[0],str2[1],str2[2],str2[3],str2[4],str2[5]"
      ],
      "metadata": {
        "colab": {
          "base_uri": "https://localhost:8080/"
        },
        "id": "TqwriEzMRiyF",
        "outputId": "166ae398-e075-44a6-d381-dc03a62d1842"
      },
      "execution_count": 14,
      "outputs": [
        {
          "output_type": "execute_result",
          "data": {
            "text/plain": [
              "('P', 'y', 't', 'h', 'o', 'n')"
            ]
          },
          "metadata": {},
          "execution_count": 14
        }
      ]
    },
    {
      "cell_type": "code",
      "source": [
        "# Print the characters in the reverse order\n",
        "str2[-1],str2[-2],str2[-3],str2[-4],str2[-5],str2[-6]"
      ],
      "metadata": {
        "colab": {
          "base_uri": "https://localhost:8080/"
        },
        "id": "WSeDHJhuRzDI",
        "outputId": "e833124a-44a8-4e9a-af2b-e39c52e32503"
      },
      "execution_count": 15,
      "outputs": [
        {
          "output_type": "execute_result",
          "data": {
            "text/plain": [
              "('n', 'o', 'h', 't', 'y', 'P')"
            ]
          },
          "metadata": {},
          "execution_count": 15
        }
      ]
    },
    {
      "cell_type": "code",
      "source": [
        "# String Slicing\n",
        "str2[:]"
      ],
      "metadata": {
        "colab": {
          "base_uri": "https://localhost:8080/",
          "height": 36
        },
        "id": "mP5vrQkTSOcc",
        "outputId": "a86e657e-a4f3-4f72-e0fd-d135c0455350"
      },
      "execution_count": 16,
      "outputs": [
        {
          "output_type": "execute_result",
          "data": {
            "text/plain": [
              "'Python'"
            ],
            "application/vnd.google.colaboratory.intrinsic+json": {
              "type": "string"
            }
          },
          "metadata": {},
          "execution_count": 16
        }
      ]
    },
    {
      "cell_type": "code",
      "source": [
        "str2[1:5]"
      ],
      "metadata": {
        "colab": {
          "base_uri": "https://localhost:8080/",
          "height": 36
        },
        "id": "e_hvP341SbPR",
        "outputId": "6116eed7-2838-445e-d3be-01cdf2be8178"
      },
      "execution_count": 17,
      "outputs": [
        {
          "output_type": "execute_result",
          "data": {
            "text/plain": [
              "'ytho'"
            ],
            "application/vnd.google.colaboratory.intrinsic+json": {
              "type": "string"
            }
          },
          "metadata": {},
          "execution_count": 17
        }
      ]
    },
    {
      "cell_type": "code",
      "source": [
        "# To print characters upto 2 < 3\n",
        "str2[:3]"
      ],
      "metadata": {
        "colab": {
          "base_uri": "https://localhost:8080/",
          "height": 36
        },
        "id": "weOOrX6NSqjE",
        "outputId": "7c11ede9-32f3-4399-dd9d-8861a3f10fb4"
      },
      "execution_count": 18,
      "outputs": [
        {
          "output_type": "execute_result",
          "data": {
            "text/plain": [
              "'Pyt'"
            ],
            "application/vnd.google.colaboratory.intrinsic+json": {
              "type": "string"
            }
          },
          "metadata": {},
          "execution_count": 18
        }
      ]
    },
    {
      "cell_type": "code",
      "source": [
        "# To print characters beyond 3\n",
        "str2[3:]\n"
      ],
      "metadata": {
        "colab": {
          "base_uri": "https://localhost:8080/",
          "height": 36
        },
        "id": "mi58xRQ0S4Cg",
        "outputId": "1ac1e6fb-a615-47c8-b1b0-0944b97a2926"
      },
      "execution_count": 19,
      "outputs": [
        {
          "output_type": "execute_result",
          "data": {
            "text/plain": [
              "'hon'"
            ],
            "application/vnd.google.colaboratory.intrinsic+json": {
              "type": "string"
            }
          },
          "metadata": {},
          "execution_count": 19
        }
      ]
    },
    {
      "cell_type": "code",
      "source": [
        "# Getting details of the string / text\n",
        "new_string = \"This is a String\" # storing a string\n",
        "print('ID:', id(new_string)) # shows the object identifier (address)\n",
        "print('Type:', type(new_string)) # shows the object type\n",
        "print('Value:', new_string) # shows the object value"
      ],
      "metadata": {
        "colab": {
          "base_uri": "https://localhost:8080/"
        },
        "id": "qJOCsxMZzXP9",
        "outputId": "74ec40c7-1286-4416-bdbe-74eb310d4d00"
      },
      "execution_count": 20,
      "outputs": [
        {
          "output_type": "stream",
          "name": "stdout",
          "text": [
            "ID: 137954229845440\n",
            "Type: <class 'str'>\n",
            "Value: This is a String\n"
          ]
        }
      ]
    },
    {
      "cell_type": "code",
      "source": [
        "# String Methods\n",
        "# creates a new string\n",
        "s=''\n",
        "print(s)"
      ],
      "metadata": {
        "colab": {
          "base_uri": "https://localhost:8080/"
        },
        "id": "KP8t_4WDdg4z",
        "outputId": "791d2a74-4754-4e8f-cdce-9ae389ff193c"
      },
      "execution_count": 21,
      "outputs": [
        {
          "output_type": "stream",
          "name": "stdout",
          "text": [
            "\n"
          ]
        }
      ]
    },
    {
      "cell_type": "code",
      "source": [
        "print('orginal string id',id(s))\n",
        "# add a character to the string\n",
        "s='B'+s[1:]"
      ],
      "metadata": {
        "colab": {
          "base_uri": "https://localhost:8080/"
        },
        "id": "xupOEYVA14N5",
        "outputId": "6abb263c-aea6-435a-bada-edf4fcec0d60"
      },
      "execution_count": 22,
      "outputs": [
        {
          "output_type": "stream",
          "name": "stdout",
          "text": [
            "orginal string id 137954661842992\n"
          ]
        }
      ]
    },
    {
      "cell_type": "code",
      "source": [
        "print(s)"
      ],
      "metadata": {
        "colab": {
          "base_uri": "https://localhost:8080/"
        },
        "id": "hIvqJUKf2Zy2",
        "outputId": "da429821-83a8-4544-9d23-c1a4aca2d970"
      },
      "execution_count": 23,
      "outputs": [
        {
          "output_type": "stream",
          "name": "stdout",
          "text": [
            "B\n"
          ]
        }
      ]
    },
    {
      "cell_type": "code",
      "source": [
        "s='BIRLA'+s[1:]"
      ],
      "metadata": {
        "id": "aRqsvGaC2QfY"
      },
      "execution_count": 24,
      "outputs": []
    },
    {
      "cell_type": "code",
      "source": [
        "print(s)"
      ],
      "metadata": {
        "colab": {
          "base_uri": "https://localhost:8080/"
        },
        "id": "9SnMIFj02HyY",
        "outputId": "ad0c18e4-94b6-45b8-a162-1f1fa6de0d08"
      },
      "execution_count": 25,
      "outputs": [
        {
          "output_type": "stream",
          "name": "stdout",
          "text": [
            "BIRLA\n"
          ]
        }
      ]
    },
    {
      "cell_type": "code",
      "source": [
        "print('new string id',id(s))"
      ],
      "metadata": {
        "colab": {
          "base_uri": "https://localhost:8080/"
        },
        "id": "VKCo6VP02tJc",
        "outputId": "deee3afa-4d06-4c5d-8aa8-023c37d8cdce"
      },
      "execution_count": 26,
      "outputs": [
        {
          "output_type": "stream",
          "name": "stdout",
          "text": [
            "new string id 137954229936176\n"
          ]
        }
      ]
    },
    {
      "cell_type": "code",
      "source": [
        "# String Methods\n",
        "str='NLP is great!!'"
      ],
      "metadata": {
        "id": "ae92Xtsq3ATg"
      },
      "execution_count": 27,
      "outputs": []
    },
    {
      "cell_type": "code",
      "source": [
        "# case conversion\n",
        "# 1 Capitalise - First Character of the begining word will be capitalized\n",
        "str.capitalize()"
      ],
      "metadata": {
        "colab": {
          "base_uri": "https://localhost:8080/",
          "height": 36
        },
        "id": "anxWkuF83Ho7",
        "outputId": "372df79e-3386-4347-ddb8-9b586b61632c"
      },
      "execution_count": 28,
      "outputs": [
        {
          "output_type": "execute_result",
          "data": {
            "text/plain": [
              "'Nlp is great!!'"
            ],
            "application/vnd.google.colaboratory.intrinsic+json": {
              "type": "string"
            }
          },
          "metadata": {},
          "execution_count": 28
        }
      ]
    },
    {
      "cell_type": "code",
      "source": [
        "# 2 Upper case - all the characters will be in upper case\n",
        "str.upper()\n"
      ],
      "metadata": {
        "colab": {
          "base_uri": "https://localhost:8080/",
          "height": 36
        },
        "id": "W6YRy6OM3cXe",
        "outputId": "fe956629-a9fe-47c6-a7d2-db5f9cd999bb"
      },
      "execution_count": 29,
      "outputs": [
        {
          "output_type": "execute_result",
          "data": {
            "text/plain": [
              "'NLP IS GREAT!!'"
            ],
            "application/vnd.google.colaboratory.intrinsic+json": {
              "type": "string"
            }
          },
          "metadata": {},
          "execution_count": 29
        }
      ]
    },
    {
      "cell_type": "code",
      "source": [
        "# 2 a Lower case - all the letters are in lower case\n",
        "str.lower()"
      ],
      "metadata": {
        "colab": {
          "base_uri": "https://localhost:8080/",
          "height": 36
        },
        "id": "JAHwwerb4Fun",
        "outputId": "db42a876-f1e1-4066-a83f-4a4b969c5271"
      },
      "execution_count": 30,
      "outputs": [
        {
          "output_type": "execute_result",
          "data": {
            "text/plain": [
              "'nlp is great!!'"
            ],
            "application/vnd.google.colaboratory.intrinsic+json": {
              "type": "string"
            }
          },
          "metadata": {},
          "execution_count": 30
        }
      ]
    },
    {
      "cell_type": "code",
      "source": [
        "# 3 Sentence in title case - first charcter of every word is in upper case\n",
        "str.title()"
      ],
      "metadata": {
        "colab": {
          "base_uri": "https://localhost:8080/",
          "height": 36
        },
        "id": "GsXvNn2z3qsz",
        "outputId": "3c1ef4aa-4670-48b6-cc19-5d3be99907f3"
      },
      "execution_count": 31,
      "outputs": [
        {
          "output_type": "execute_result",
          "data": {
            "text/plain": [
              "'Nlp Is Great!!'"
            ],
            "application/vnd.google.colaboratory.intrinsic+json": {
              "type": "string"
            }
          },
          "metadata": {},
          "execution_count": 31
        }
      ]
    },
    {
      "cell_type": "code",
      "source": [
        "# String replacment in the text\n",
        "str.replace('NLP','Python')"
      ],
      "metadata": {
        "colab": {
          "base_uri": "https://localhost:8080/",
          "height": 36
        },
        "id": "ElV2nmOd4SZC",
        "outputId": "6a881297-5e84-4d75-a902-da10ff0e9133"
      },
      "execution_count": 32,
      "outputs": [
        {
          "output_type": "execute_result",
          "data": {
            "text/plain": [
              "'Python is great!!'"
            ],
            "application/vnd.google.colaboratory.intrinsic+json": {
              "type": "string"
            }
          },
          "metadata": {},
          "execution_count": 32
        }
      ]
    },
    {
      "cell_type": "code",
      "source": [
        "# Checks on the strings/word- numeric, alpha, alphanumeric\n",
        "str.isnumeric()"
      ],
      "metadata": {
        "colab": {
          "base_uri": "https://localhost:8080/"
        },
        "id": "bqR6JJCm4iv9",
        "outputId": "14529c81-fded-45e4-f7a4-673cd9d0e1cb"
      },
      "execution_count": 33,
      "outputs": [
        {
          "output_type": "execute_result",
          "data": {
            "text/plain": [
              "False"
            ]
          },
          "metadata": {},
          "execution_count": 33
        }
      ]
    },
    {
      "cell_type": "code",
      "source": [
        "str.isalpha()"
      ],
      "metadata": {
        "colab": {
          "base_uri": "https://localhost:8080/"
        },
        "id": "n20goX6P4_rp",
        "outputId": "5bf2e18b-6c13-478f-dd74-a9223029b5d6"
      },
      "execution_count": 34,
      "outputs": [
        {
          "output_type": "execute_result",
          "data": {
            "text/plain": [
              "False"
            ]
          },
          "metadata": {},
          "execution_count": 34
        }
      ]
    },
    {
      "cell_type": "code",
      "source": [
        "str.isalnum()"
      ],
      "metadata": {
        "colab": {
          "base_uri": "https://localhost:8080/"
        },
        "id": "VwJzuSes5LP7",
        "outputId": "7a8c947b-98cc-48ab-cec2-51e1c8947b9b"
      },
      "execution_count": 35,
      "outputs": [
        {
          "output_type": "execute_result",
          "data": {
            "text/plain": [
              "False"
            ]
          },
          "metadata": {},
          "execution_count": 35
        }
      ]
    },
    {
      "cell_type": "code",
      "source": [
        "str1='12345'\n",
        "str1.isnumeric()"
      ],
      "metadata": {
        "colab": {
          "base_uri": "https://localhost:8080/"
        },
        "id": "QNxOwbma4-ry",
        "outputId": "88dd298e-8c4f-4484-a460-4e01fb818e21"
      },
      "execution_count": 36,
      "outputs": [
        {
          "output_type": "execute_result",
          "data": {
            "text/plain": [
              "True"
            ]
          },
          "metadata": {},
          "execution_count": 36
        }
      ]
    },
    {
      "cell_type": "code",
      "source": [
        "str2='emp101'\n",
        "str2.isalnum()"
      ],
      "metadata": {
        "colab": {
          "base_uri": "https://localhost:8080/"
        },
        "id": "j-VfJfVK5mGF",
        "outputId": "7798ab6e-dd1a-4770-d5f2-0d0792a7844a"
      },
      "execution_count": 37,
      "outputs": [
        {
          "output_type": "execute_result",
          "data": {
            "text/plain": [
              "True"
            ]
          },
          "metadata": {},
          "execution_count": 37
        }
      ]
    },
    {
      "cell_type": "code",
      "source": [
        "str3='15+20'\n",
        "str3.isnumeric()"
      ],
      "metadata": {
        "colab": {
          "base_uri": "https://localhost:8080/"
        },
        "id": "tFVsCF4I5-A6",
        "outputId": "2220cd80-4aab-4d81-d5c5-1c084032fcb2"
      },
      "execution_count": 38,
      "outputs": [
        {
          "output_type": "execute_result",
          "data": {
            "text/plain": [
              "False"
            ]
          },
          "metadata": {},
          "execution_count": 38
        }
      ]
    },
    {
      "cell_type": "code",
      "source": [
        "str3.isalpha()"
      ],
      "metadata": {
        "colab": {
          "base_uri": "https://localhost:8080/"
        },
        "id": "kA0rihP56UpR",
        "outputId": "8dc1fc4b-38db-4728-e9df-d8bc26c6c3c4"
      },
      "execution_count": 39,
      "outputs": [
        {
          "output_type": "execute_result",
          "data": {
            "text/plain": [
              "False"
            ]
          },
          "metadata": {},
          "execution_count": 39
        }
      ]
    },
    {
      "cell_type": "code",
      "source": [
        "str3.isalnum()"
      ],
      "metadata": {
        "colab": {
          "base_uri": "https://localhost:8080/"
        },
        "id": "qyEdqkkZ6WjR",
        "outputId": "b2c2b8d7-2a94-4ffe-9fbe-5309463f4d5d"
      },
      "execution_count": 40,
      "outputs": [
        {
          "output_type": "execute_result",
          "data": {
            "text/plain": [
              "False"
            ]
          },
          "metadata": {},
          "execution_count": 40
        }
      ]
    },
    {
      "cell_type": "code",
      "source": [
        "# to split, join, and strip the given strings\n",
        "str4='I, love, indian, food'"
      ],
      "metadata": {
        "id": "qMQHwI4-6lDd"
      },
      "execution_count": 41,
      "outputs": []
    },
    {
      "cell_type": "code",
      "source": [
        "# Split\n",
        "str4.split()"
      ],
      "metadata": {
        "colab": {
          "base_uri": "https://localhost:8080/"
        },
        "id": "5DYUY23e6ztV",
        "outputId": "50679151-1ea3-48c4-80fd-2c25ce46c165"
      },
      "execution_count": 42,
      "outputs": [
        {
          "output_type": "execute_result",
          "data": {
            "text/plain": [
              "['I,', 'love,', 'indian,', 'food']"
            ]
          },
          "metadata": {},
          "execution_count": 42
        }
      ]
    },
    {
      "cell_type": "code",
      "source": [
        "# Joining the words by a blank space instead a ','\n",
        "' '.join(str4.split(','))"
      ],
      "metadata": {
        "colab": {
          "base_uri": "https://localhost:8080/",
          "height": 36
        },
        "id": "-Lkto4A87D9Q",
        "outputId": "88943114-ee7e-4cdf-a099-795fb58c9b73"
      },
      "execution_count": 43,
      "outputs": [
        {
          "output_type": "execute_result",
          "data": {
            "text/plain": [
              "'I  love  indian  food'"
            ],
            "application/vnd.google.colaboratory.intrinsic+json": {
              "type": "string"
            }
          },
          "metadata": {},
          "execution_count": 43
        }
      ]
    },
    {
      "cell_type": "code",
      "source": [
        "str5='  Python is great!!'\n",
        "str5"
      ],
      "metadata": {
        "colab": {
          "base_uri": "https://localhost:8080/",
          "height": 36
        },
        "id": "ebziucJN8CRY",
        "outputId": "1217a280-406f-4a09-ed92-8b581e5805c7"
      },
      "execution_count": 44,
      "outputs": [
        {
          "output_type": "execute_result",
          "data": {
            "text/plain": [
              "'  Python is great!!'"
            ],
            "application/vnd.google.colaboratory.intrinsic+json": {
              "type": "string"
            }
          },
          "metadata": {},
          "execution_count": 44
        }
      ]
    },
    {
      "cell_type": "code",
      "source": [
        "# Removing the blank space using 'strip'\n",
        "str5.strip()\n"
      ],
      "metadata": {
        "colab": {
          "base_uri": "https://localhost:8080/",
          "height": 36
        },
        "id": "oK_zhFRl8Yo9",
        "outputId": "2fa40b7e-c2cb-4432-b703-fc92c983f8ab"
      },
      "execution_count": 45,
      "outputs": [
        {
          "output_type": "execute_result",
          "data": {
            "text/plain": [
              "'Python is great!!'"
            ],
            "application/vnd.google.colaboratory.intrinsic+json": {
              "type": "string"
            }
          },
          "metadata": {},
          "execution_count": 45
        }
      ]
    },
    {
      "cell_type": "code",
      "source": [
        "# Sentences with mmutliple statements\n",
        "sent1='NLP is great. Python is excellent.'"
      ],
      "metadata": {
        "id": "GuohyyO28sCu"
      },
      "execution_count": 46,
      "outputs": []
    },
    {
      "cell_type": "code",
      "source": [
        "# Split the sentence\n",
        "sent1.split()"
      ],
      "metadata": {
        "colab": {
          "base_uri": "https://localhost:8080/"
        },
        "id": "pTxLWJ4L9ISI",
        "outputId": "79d4f21d-57cd-43d8-e84b-c32ddabba04f"
      },
      "execution_count": 47,
      "outputs": [
        {
          "output_type": "execute_result",
          "data": {
            "text/plain": [
              "['NLP', 'is', 'great.', 'Python', 'is', 'excellent.']"
            ]
          },
          "metadata": {},
          "execution_count": 47
        }
      ]
    },
    {
      "cell_type": "code",
      "source": [
        "# Display the sentences separately when they are separated by '.' and join them back\n",
        "# and display them on the two new lines\n",
        "print('\\n'.join(sent1.split('.')))"
      ],
      "metadata": {
        "colab": {
          "base_uri": "https://localhost:8080/"
        },
        "id": "SQcjQ9hk9ZcZ",
        "outputId": "c2940a92-b519-4081-e8cc-cd2222beda16"
      },
      "execution_count": 48,
      "outputs": [
        {
          "output_type": "stream",
          "name": "stdout",
          "text": [
            "NLP is great\n",
            " Python is excellent\n",
            "\n"
          ]
        }
      ]
    },
    {
      "cell_type": "code",
      "source": [
        "sent1.strip()"
      ],
      "metadata": {
        "colab": {
          "base_uri": "https://localhost:8080/",
          "height": 36
        },
        "id": "-8NXt3Fs-qXa",
        "outputId": "ba0a19fb-96aa-4cbf-fca5-b4cf28d344fd"
      },
      "execution_count": 49,
      "outputs": [
        {
          "output_type": "execute_result",
          "data": {
            "text/plain": [
              "'NLP is great. Python is excellent.'"
            ],
            "application/vnd.google.colaboratory.intrinsic+json": {
              "type": "string"
            }
          },
          "metadata": {},
          "execution_count": 49
        }
      ]
    },
    {
      "cell_type": "code",
      "source": [
        "# Printing every character on the new line\n",
        "print('\\n'.join(sent1.strip()))"
      ],
      "metadata": {
        "colab": {
          "base_uri": "https://localhost:8080/"
        },
        "id": "Dtthr2Dz-zbo",
        "outputId": "4f402ee7-c6a6-45d8-fc2e-ae63f5cbffc3"
      },
      "execution_count": 50,
      "outputs": [
        {
          "output_type": "stream",
          "name": "stdout",
          "text": [
            "N\n",
            "L\n",
            "P\n",
            " \n",
            "i\n",
            "s\n",
            " \n",
            "g\n",
            "r\n",
            "e\n",
            "a\n",
            "t\n",
            ".\n",
            " \n",
            "P\n",
            "y\n",
            "t\n",
            "h\n",
            "o\n",
            "n\n",
            " \n",
            "i\n",
            "s\n",
            " \n",
            "e\n",
            "x\n",
            "c\n",
            "e\n",
            "l\n",
            "l\n",
            "e\n",
            "n\n",
            "t\n",
            ".\n"
          ]
        }
      ]
    },
    {
      "cell_type": "code",
      "source": [
        "print('\\n'.join([sent1.strip() for sent1 in sent1.split('.') if sent1]))"
      ],
      "metadata": {
        "colab": {
          "base_uri": "https://localhost:8080/"
        },
        "id": "RGjHGC-3_GIw",
        "outputId": "d044305e-65f7-4d26-e8c8-fb7f235feb5f"
      },
      "execution_count": 51,
      "outputs": [
        {
          "output_type": "stream",
          "name": "stdout",
          "text": [
            "NLP is great\n",
            "Python is excellent\n"
          ]
        }
      ]
    },
    {
      "cell_type": "code",
      "source": [
        "'Hello %s' %('Python!')"
      ],
      "metadata": {
        "colab": {
          "base_uri": "https://localhost:8080/",
          "height": 36
        },
        "id": "FSX5DRz1Bpv5",
        "outputId": "d35b6987-a837-4a52-f63e-238fdc53d680"
      },
      "execution_count": 52,
      "outputs": [
        {
          "output_type": "execute_result",
          "data": {
            "text/plain": [
              "'Hello Python!'"
            ],
            "application/vnd.google.colaboratory.intrinsic+json": {
              "type": "string"
            }
          },
          "metadata": {},
          "execution_count": 52
        }
      ]
    },
    {
      "cell_type": "code",
      "source": [
        "'Hello %s %s' %('World!', 'How are you?')"
      ],
      "metadata": {
        "colab": {
          "base_uri": "https://localhost:8080/",
          "height": 36
        },
        "id": "UNFkFR23BzTW",
        "outputId": "63486cf3-e319-4af0-a626-1cb06dc7427d"
      },
      "execution_count": 53,
      "outputs": [
        {
          "output_type": "execute_result",
          "data": {
            "text/plain": [
              "'Hello World! How are you?'"
            ],
            "application/vnd.google.colaboratory.intrinsic+json": {
              "type": "string"
            }
          },
          "metadata": {},
          "execution_count": 53
        }
      ]
    },
    {
      "cell_type": "code",
      "source": [
        "'I want %d %s' %(2,'pens')"
      ],
      "metadata": {
        "colab": {
          "base_uri": "https://localhost:8080/",
          "height": 36
        },
        "id": "Kzmo5JrECFvi",
        "outputId": "7dd00568-3071-450e-9acd-f0f43d0246d7"
      },
      "execution_count": 54,
      "outputs": [
        {
          "output_type": "execute_result",
          "data": {
            "text/plain": [
              "'I want 2 pens'"
            ],
            "application/vnd.google.colaboratory.intrinsic+json": {
              "type": "string"
            }
          },
          "metadata": {},
          "execution_count": 54
        }
      ]
    },
    {
      "cell_type": "code",
      "source": [
        "# Formatting the string with new formatting methods - using string format {}\n",
        "'Hello {} {}, it is a great {} meeting you at {}'.format('Mr.','India','pleasure','5')"
      ],
      "metadata": {
        "colab": {
          "base_uri": "https://localhost:8080/",
          "height": 36
        },
        "id": "5VNvHAoDBLA_",
        "outputId": "c0933b41-9552-41b6-bca1-17164e893408"
      },
      "execution_count": 55,
      "outputs": [
        {
          "output_type": "execute_result",
          "data": {
            "text/plain": [
              "'Hello Mr. India, it is a great pleasure meeting you at 5'"
            ],
            "application/vnd.google.colaboratory.intrinsic+json": {
              "type": "string"
            }
          },
          "metadata": {},
          "execution_count": 55
        }
      ]
    },
    {
      "cell_type": "code",
      "source": [
        "'Hello {} {}, it is a great {} meeting you at {} o\\'clock'.format('Mr.','India','pleasure','5')"
      ],
      "metadata": {
        "colab": {
          "base_uri": "https://localhost:8080/",
          "height": 36
        },
        "id": "Vg3FYwR0DXPV",
        "outputId": "00163221-7585-432e-b540-a8760b8cf3e2"
      },
      "execution_count": 56,
      "outputs": [
        {
          "output_type": "execute_result",
          "data": {
            "text/plain": [
              "\"Hello Mr. India, it is a great pleasure meeting you at 5 o'clock\""
            ],
            "application/vnd.google.colaboratory.intrinsic+json": {
              "type": "string"
            }
          },
          "metadata": {},
          "execution_count": 56
        }
      ]
    },
    {
      "cell_type": "code",
      "source": [
        "'Hello, I want one {food_item} and a {drink_item}'.format(food_item='vada_pav',drink_item='coffee')"
      ],
      "metadata": {
        "colab": {
          "base_uri": "https://localhost:8080/",
          "height": 36
        },
        "id": "Xt2A7v6nDvZG",
        "outputId": "b9fcebdb-ea9b-4389-a907-2e1c0490d3a8"
      },
      "execution_count": 57,
      "outputs": [
        {
          "output_type": "execute_result",
          "data": {
            "text/plain": [
              "'Hello, I want one vada_pav and a coffee'"
            ],
            "application/vnd.google.colaboratory.intrinsic+json": {
              "type": "string"
            }
          },
          "metadata": {},
          "execution_count": 57
        }
      ]
    },
    {
      "cell_type": "code",
      "source": [
        "'The {color} {animal} is {adj1} and {adj2}'.format(color='brown',animal='fox',adj1='quick',adj2='persistent')"
      ],
      "metadata": {
        "colab": {
          "base_uri": "https://localhost:8080/",
          "height": 36
        },
        "id": "YueOHiSWEj34",
        "outputId": "1d4d719a-6b03-4a23-9162-7b66eddaad49"
      },
      "execution_count": 58,
      "outputs": [
        {
          "output_type": "execute_result",
          "data": {
            "text/plain": [
              "'The brown fox is quick and persistent'"
            ],
            "application/vnd.google.colaboratory.intrinsic+json": {
              "type": "string"
            }
          },
          "metadata": {},
          "execution_count": 58
        }
      ]
    },
    {
      "cell_type": "code",
      "source": [
        "'The {color} {animal} is {adj1} but {adj2}'.format(color='white',animal='rabbit',adj1='fast',adj2='lazy')"
      ],
      "metadata": {
        "colab": {
          "base_uri": "https://localhost:8080/",
          "height": 36
        },
        "id": "3sQIYoO7FS0U",
        "outputId": "cc6b82f9-892e-421e-f12f-a3d24a1042d7"
      },
      "execution_count": 59,
      "outputs": [
        {
          "output_type": "execute_result",
          "data": {
            "text/plain": [
              "'The white rabbit is fast but lazy'"
            ],
            "application/vnd.google.colaboratory.intrinsic+json": {
              "type": "string"
            }
          },
          "metadata": {},
          "execution_count": 59
        }
      ]
    },
    {
      "cell_type": "markdown",
      "source": [
        "### Working(creating and using) with regular expressions(regexes) using the module 're'\n",
        "### Regexes have the patterns denoted by thye raw string notations.\n",
        "### Pattens are matched using the string rules defined on the patterns\n",
        "### re module defines the flags which are used to match the particular pattern\n",
        "### re.I, re.S, re.U\n",
        "### Rules used for matching the patterns\n",
        "###. - matching a single character\n",
        "###^ - matching the start of the string\n",
        "###$ - matching the end of the string\n",
        "###* for matching zero\n",
        "### depending upon the requirement we can use variations of ., ^, $,...\n",
        "### | - OR, + , \\d (decimal), \\D(non - decimal) # \\s(white space), \\S(non - white space)\\w\n",
        "### (aplhanumeric),\\W(non- alphanumeric)\n",
        "### re.match(), re.search(), re.findall(),re.finditer(), re.sub(),........"
      ],
      "metadata": {
        "id": "DifCtKE3GHdY"
      }
    },
    {
      "cell_type": "code",
      "source": [
        "# working with regular expressions\n",
        "s1='Python is excellent Language'\n",
        "s2='I love Python Language. We can use python language for building the applications'"
      ],
      "metadata": {
        "id": "z22QWmmOF9EN"
      },
      "execution_count": 60,
      "outputs": []
    },
    {
      "cell_type": "code",
      "source": [
        "# Import re\n",
        "import re"
      ],
      "metadata": {
        "id": "ULnaP0_VI_ea"
      },
      "execution_count": 61,
      "outputs": []
    },
    {
      "cell_type": "code",
      "source": [
        "# define the patterns to be matched\n",
        "pattern1='python'\n",
        "pattern2='language'"
      ],
      "metadata": {
        "id": "yJ73tl_cJl2k"
      },
      "execution_count": 62,
      "outputs": []
    },
    {
      "cell_type": "code",
      "source": [
        "# match the patterns in teh sentences\n",
        "re.match(pattern1,s1)"
      ],
      "metadata": {
        "id": "piODBouyKC6A"
      },
      "execution_count": 63,
      "outputs": []
    },
    {
      "cell_type": "code",
      "source": [
        "re.match(pattern2,s1)"
      ],
      "metadata": {
        "id": "4kJTdEQPNlYZ"
      },
      "execution_count": 64,
      "outputs": []
    },
    {
      "cell_type": "code",
      "source": [
        "m1=re.match(pattern1,s1,flags=re.I) # IGNORCASE also wroks on the simialr lines"
      ],
      "metadata": {
        "id": "zS9CgHZoKQkA"
      },
      "execution_count": 65,
      "outputs": []
    },
    {
      "cell_type": "code",
      "source": [
        "m1.group(0)"
      ],
      "metadata": {
        "colab": {
          "base_uri": "https://localhost:8080/",
          "height": 36
        },
        "id": "nU5g-AXTLuRy",
        "outputId": "66458e3d-9a66-46ac-fe4b-e4b7b1751886"
      },
      "execution_count": 66,
      "outputs": [
        {
          "output_type": "execute_result",
          "data": {
            "text/plain": [
              "'Python'"
            ],
            "application/vnd.google.colaboratory.intrinsic+json": {
              "type": "string"
            }
          },
          "metadata": {},
          "execution_count": 66
        }
      ]
    },
    {
      "cell_type": "code",
      "source": [
        "m1.start()"
      ],
      "metadata": {
        "colab": {
          "base_uri": "https://localhost:8080/"
        },
        "id": "rQEkSg4SL89d",
        "outputId": "a13761c7-a550-44ed-dda6-ed2489ffed7c"
      },
      "execution_count": 67,
      "outputs": [
        {
          "output_type": "execute_result",
          "data": {
            "text/plain": [
              "0"
            ]
          },
          "metadata": {},
          "execution_count": 67
        }
      ]
    },
    {
      "cell_type": "code",
      "source": [
        "m1.end()"
      ],
      "metadata": {
        "colab": {
          "base_uri": "https://localhost:8080/"
        },
        "id": "f2CB6tzlMBVl",
        "outputId": "a159a8c2-5279-44c8-c60a-83ad286c0d86"
      },
      "execution_count": 68,
      "outputs": [
        {
          "output_type": "execute_result",
          "data": {
            "text/plain": [
              "6"
            ]
          },
          "metadata": {},
          "execution_count": 68
        }
      ]
    },
    {
      "cell_type": "code",
      "source": [
        "# Print the matches with their indexes in the orginal sentences\n",
        "print('Match is found {} ranging from the index {} - {} in the sentence {}'.format(m1.group(0),m1.start(),m1.end(),s1))"
      ],
      "metadata": {
        "colab": {
          "base_uri": "https://localhost:8080/"
        },
        "id": "LO8-aj1FK1uN",
        "outputId": "d4a37c0e-6d94-4dc2-b934-3a7614b90780"
      },
      "execution_count": 69,
      "outputs": [
        {
          "output_type": "stream",
          "name": "stdout",
          "text": [
            "Match is found Python ranging from the index 0 - 6 in the sentence Python is excellent Language\n"
          ]
        }
      ]
    },
    {
      "cell_type": "code",
      "source": [
        "m2=re.match(pattern2,s2,flags=re.I)"
      ],
      "metadata": {
        "id": "Z6dCojwHM11G"
      },
      "execution_count": 70,
      "outputs": []
    },
    {
      "cell_type": "code",
      "source": [
        "print(m2)"
      ],
      "metadata": {
        "colab": {
          "base_uri": "https://localhost:8080/"
        },
        "id": "XgSEOR-0OQYN",
        "outputId": "1c76ef1b-f0bf-409c-8231-524c8d694583"
      },
      "execution_count": 71,
      "outputs": [
        {
          "output_type": "stream",
          "name": "stdout",
          "text": [
            "None\n"
          ]
        }
      ]
    },
    {
      "cell_type": "markdown",
      "source": [
        "##Match does not work when pattern is not there in the beginning of sentence s2"
      ],
      "metadata": {
        "id": "HfJDD4stEyzX"
      }
    },
    {
      "cell_type": "code",
      "source": [
        "# illustrating find and search methods using the re module\n",
        "re.search(pattern2, s2, re.IGNORECASE)"
      ],
      "metadata": {
        "colab": {
          "base_uri": "https://localhost:8080/"
        },
        "id": "yVbZaG8AE3Ra",
        "outputId": "94037d94-b892-4cf3-9452-704dc7671d06"
      },
      "execution_count": 72,
      "outputs": [
        {
          "output_type": "execute_result",
          "data": {
            "text/plain": [
              "<re.Match object; span=(14, 22), match='Language'>"
            ]
          },
          "metadata": {},
          "execution_count": 72
        }
      ]
    },
    {
      "cell_type": "code",
      "source": [
        "re.findall(pattern1, s1, re.IGNORECASE)"
      ],
      "metadata": {
        "colab": {
          "base_uri": "https://localhost:8080/"
        },
        "id": "bpA1iWZV3uxp",
        "outputId": "5eee1728-5b7a-4dcb-879f-f2583a727059"
      },
      "execution_count": 73,
      "outputs": [
        {
          "output_type": "execute_result",
          "data": {
            "text/plain": [
              "['Python']"
            ]
          },
          "metadata": {},
          "execution_count": 73
        }
      ]
    },
    {
      "cell_type": "code",
      "source": [
        "re.findall(pattern2, s2, re.IGNORECASE)"
      ],
      "metadata": {
        "colab": {
          "base_uri": "https://localhost:8080/"
        },
        "id": "TiS5YGWp3yeQ",
        "outputId": "02c92d6b-0c13-485f-be92-ef29b372e9ae"
      },
      "execution_count": 74,
      "outputs": [
        {
          "output_type": "execute_result",
          "data": {
            "text/plain": [
              "['Language', 'language']"
            ]
          },
          "metadata": {},
          "execution_count": 74
        }
      ]
    },
    {
      "cell_type": "code",
      "source": [
        "# To find all the occurences of pattern\n",
        "re.findall(pattern1, s2, re.IGNORECASE)"
      ],
      "metadata": {
        "colab": {
          "base_uri": "https://localhost:8080/"
        },
        "id": "TCBL0JIoFL1u",
        "outputId": "cb13320f-6ccf-4554-ed85-7010aadf1bf7"
      },
      "execution_count": 75,
      "outputs": [
        {
          "output_type": "execute_result",
          "data": {
            "text/plain": [
              "['Python', 'python']"
            ]
          },
          "metadata": {},
          "execution_count": 75
        }
      ]
    },
    {
      "cell_type": "code",
      "source": [
        "re.findall(pattern2, s2,re.I)"
      ],
      "metadata": {
        "colab": {
          "base_uri": "https://localhost:8080/"
        },
        "id": "ndYP9pOdFGz3",
        "outputId": "a6a3a536-13fd-43b9-82f1-d9dff5c6a7d7"
      },
      "execution_count": 76,
      "outputs": [
        {
          "output_type": "execute_result",
          "data": {
            "text/plain": [
              "['Language', 'language']"
            ]
          },
          "metadata": {},
          "execution_count": 76
        }
      ]
    },
    {
      "cell_type": "code",
      "source": [
        "match_objs = re.finditer(pattern2, s2, re.IGNORECASE)"
      ],
      "metadata": {
        "id": "WPhES1bbFiHj"
      },
      "execution_count": 77,
      "outputs": []
    },
    {
      "cell_type": "code",
      "source": [
        "match_objs"
      ],
      "metadata": {
        "colab": {
          "base_uri": "https://localhost:8080/"
        },
        "id": "4hEKp5G3Fl4N",
        "outputId": "919c10e2-5115-4d2c-f01c-75c48c636c8e"
      },
      "execution_count": 78,
      "outputs": [
        {
          "output_type": "execute_result",
          "data": {
            "text/plain": [
              "<callable_iterator at 0x7d77f8e40ca0>"
            ]
          },
          "metadata": {},
          "execution_count": 78
        }
      ]
    },
    {
      "cell_type": "code",
      "source": [
        "print(match_objs)"
      ],
      "metadata": {
        "colab": {
          "base_uri": "https://localhost:8080/"
        },
        "id": "MMahGiJj4Q5h",
        "outputId": "397f1445-ebb5-469f-c4a0-1cc09de1888c"
      },
      "execution_count": 79,
      "outputs": [
        {
          "output_type": "stream",
          "name": "stdout",
          "text": [
            "<callable_iterator object at 0x7d77f8e40ca0>\n"
          ]
        }
      ]
    },
    {
      "cell_type": "code",
      "source": [
        "print(\"Sentence :\", s2)"
      ],
      "metadata": {
        "colab": {
          "base_uri": "https://localhost:8080/"
        },
        "id": "VCVDRXOvFuKw",
        "outputId": "10bb6adb-3998-458f-e6b7-bf6890b4fef2"
      },
      "execution_count": 80,
      "outputs": [
        {
          "output_type": "stream",
          "name": "stdout",
          "text": [
            "Sentence : I love Python Language. We can use python language for building the applications\n"
          ]
        }
      ]
    },
    {
      "cell_type": "code",
      "source": [
        "for m in match_objs:\n",
        "  print(m.group(0))\n",
        "  print('Found match \"{}\" ranging from index {} - {}'.format\n",
        "(m.group(0), m.start(), m.end()))"
      ],
      "metadata": {
        "colab": {
          "base_uri": "https://localhost:8080/"
        },
        "id": "uEgCQBZMF2kn",
        "outputId": "22c294c5-ef01-40b5-c579-0e96e3f6eeef"
      },
      "execution_count": 81,
      "outputs": [
        {
          "output_type": "stream",
          "name": "stdout",
          "text": [
            "Language\n",
            "Found match \"Language\" ranging from index 14 - 22\n",
            "language\n",
            "Found match \"language\" ranging from index 42 - 50\n"
          ]
        }
      ]
    },
    {
      "cell_type": "markdown",
      "source": [
        "## Regular expressions for text substitution are useful to find and replace specific text tokens in strings."
      ],
      "metadata": {
        "id": "gFxmuYDcGDEK"
      }
    },
    {
      "cell_type": "code",
      "source": [
        "print(\"Sentence :\", s2)"
      ],
      "metadata": {
        "colab": {
          "base_uri": "https://localhost:8080/"
        },
        "id": "sm35Tc8y6CTw",
        "outputId": "f09322b3-c58f-4cc3-c191-87f123979c64"
      },
      "execution_count": 82,
      "outputs": [
        {
          "output_type": "stream",
          "name": "stdout",
          "text": [
            "Sentence : I love Python Language. We can use python language for building the applications\n"
          ]
        }
      ]
    },
    {
      "cell_type": "code",
      "source": [
        "# illustrating pattern substitution using sub and subn methods\n",
        "re.sub(pattern1, 'Ruby', s2, flags=re.IGNORECASE)"
      ],
      "metadata": {
        "colab": {
          "base_uri": "https://localhost:8080/",
          "height": 36
        },
        "id": "UrmyPNNHGOOM",
        "outputId": "f1367189-fd13-4537-da3f-8f84819c3e22"
      },
      "execution_count": 83,
      "outputs": [
        {
          "output_type": "execute_result",
          "data": {
            "text/plain": [
              "'I love Ruby Language. We can use Ruby language for building the applications'"
            ],
            "application/vnd.google.colaboratory.intrinsic+json": {
              "type": "string"
            }
          },
          "metadata": {},
          "execution_count": 83
        }
      ]
    },
    {
      "cell_type": "code",
      "source": [
        "# To know how many times the replacement has been done\n",
        "re.subn(pattern1, 'Ruby', s2, flags=re.IGNORECASE)"
      ],
      "metadata": {
        "colab": {
          "base_uri": "https://localhost:8080/"
        },
        "id": "-0aZs6RrGleX",
        "outputId": "7ae345f8-4299-4990-8c24-714b7c31d3e6"
      },
      "execution_count": 84,
      "outputs": [
        {
          "output_type": "execute_result",
          "data": {
            "text/plain": [
              "('I love Ruby Language. We can use Ruby language for building the applications',\n",
              " 2)"
            ]
          },
          "metadata": {},
          "execution_count": 84
        }
      ]
    },
    {
      "cell_type": "code",
      "source": [
        "# dealing with unicode matching using regexes\n",
        "s = u'H\\u00e8llo! this is Python 123 🐍'"
      ],
      "metadata": {
        "id": "NCtinzDoG0yQ"
      },
      "execution_count": 85,
      "outputs": []
    },
    {
      "cell_type": "code",
      "source": [
        "s"
      ],
      "metadata": {
        "colab": {
          "base_uri": "https://localhost:8080/",
          "height": 36
        },
        "id": "Rme4aJ3SG_C1",
        "outputId": "38f005fb-ba21-44de-8fef-52e19488b74a"
      },
      "execution_count": 86,
      "outputs": [
        {
          "output_type": "execute_result",
          "data": {
            "text/plain": [
              "'Hèllo! this is Python 123 🐍'"
            ],
            "application/vnd.google.colaboratory.intrinsic+json": {
              "type": "string"
            }
          },
          "metadata": {},
          "execution_count": 86
        }
      ]
    },
    {
      "cell_type": "code",
      "source": [
        "re.findall(r'\\w+', s)"
      ],
      "metadata": {
        "colab": {
          "base_uri": "https://localhost:8080/"
        },
        "id": "AEStDVaEHOpo",
        "outputId": "ed39f490-0895-4c4f-90bf-676d76869e07"
      },
      "execution_count": 87,
      "outputs": [
        {
          "output_type": "execute_result",
          "data": {
            "text/plain": [
              "['Hèllo', 'this', 'is', 'Python', '123']"
            ]
          },
          "metadata": {},
          "execution_count": 87
        }
      ]
    },
    {
      "cell_type": "code",
      "source": [
        "re.findall(r'\\W+', s)"
      ],
      "metadata": {
        "colab": {
          "base_uri": "https://localhost:8080/"
        },
        "id": "9bLM_7Dt7qoE",
        "outputId": "18380761-22c4-4cf2-dea9-639c4bbdab91"
      },
      "execution_count": 88,
      "outputs": [
        {
          "output_type": "execute_result",
          "data": {
            "text/plain": [
              "['! ', ' ', ' ', ' ', ' 🐍']"
            ]
          },
          "metadata": {},
          "execution_count": 88
        }
      ]
    },
    {
      "cell_type": "code",
      "source": [
        "re.findall(r\"[A-Z]\\w+\", s, re.UNICODE)"
      ],
      "metadata": {
        "colab": {
          "base_uri": "https://localhost:8080/"
        },
        "id": "BhP46i5GHWP7",
        "outputId": "ec1c0a80-b19f-4fd9-afab-62bace89da83"
      },
      "execution_count": 89,
      "outputs": [
        {
          "output_type": "execute_result",
          "data": {
            "text/plain": [
              "['Hèllo', 'Python']"
            ]
          },
          "metadata": {},
          "execution_count": 89
        }
      ]
    },
    {
      "cell_type": "markdown",
      "source": [
        "### There are multiple ways we can print the Emojis in Python. Let’s see how to print Emojis with Unicodes, CLDR names and emoji module.\n",
        "### Using Unicodes:\n",
        "### Every emoji has a Unicode associated with it. Emojis also have a CLDR short name, which can also be used.\n",
        "###From the list of unicodes, replace “+” with “000”. For example – “U+1F600” will become “U0001F600” and prefix the unicode with “\\” and print it."
      ],
      "metadata": {
        "id": "d7lITy36InCv"
      }
    },
    {
      "cell_type": "code",
      "source": [
        "# grinning face\n",
        "print(\"\\U0001f600\")\n",
        "# grinning squinting face\n",
        "print(\"\\U0001F606\")\n",
        "# rolling on the floor laughing\n",
        "print(\"\\U0001F923\")"
      ],
      "metadata": {
        "colab": {
          "base_uri": "https://localhost:8080/"
        },
        "id": "1VdO89lJIUm0",
        "outputId": "16306c67-1b04-4ce2-a2b6-b522045ddbf2"
      },
      "execution_count": 90,
      "outputs": [
        {
          "output_type": "stream",
          "name": "stdout",
          "text": [
            "😀\n",
            "😆\n",
            "🤣\n"
          ]
        }
      ]
    },
    {
      "cell_type": "markdown",
      "source": [
        "## Using CLDR short name:"
      ],
      "metadata": {
        "id": "A3W0kfP2JCRU"
      }
    },
    {
      "cell_type": "code",
      "source": [
        "# grinning face\n",
        "print(\"\\N{grinning face}\")\n",
        "# slightly smiling face\n",
        "print(\"\\N{slightly smiling face}\")\n",
        "# winking face\n",
        "print(\"\\N{winking face}\")"
      ],
      "metadata": {
        "colab": {
          "base_uri": "https://localhost:8080/"
        },
        "id": "Th_LrTA-I7JG",
        "outputId": "336b9ece-039f-4c24-977b-186e916829f2"
      },
      "execution_count": 91,
      "outputs": [
        {
          "output_type": "stream",
          "name": "stdout",
          "text": [
            "😀\n",
            "🙂\n",
            "😉\n"
          ]
        }
      ]
    },
    {
      "cell_type": "code",
      "source": [
        "!pip install emoji"
      ],
      "metadata": {
        "colab": {
          "base_uri": "https://localhost:8080/"
        },
        "id": "5b1y0f6lJYBG",
        "outputId": "1179ea4f-d6ce-4528-96ce-db3bbd76e131"
      },
      "execution_count": 92,
      "outputs": [
        {
          "output_type": "stream",
          "name": "stdout",
          "text": [
            "Collecting emoji\n",
            "  Downloading emoji-2.12.1-py3-none-any.whl (431 kB)\n",
            "\u001b[2K     \u001b[90m━━━━━━━━━━━━━━━━━━━━━━━━━━━━━━━━━━━━━━━━\u001b[0m \u001b[32m431.4/431.4 kB\u001b[0m \u001b[31m5.6 MB/s\u001b[0m eta \u001b[36m0:00:00\u001b[0m\n",
            "\u001b[?25hRequirement already satisfied: typing-extensions>=4.7.0 in /usr/local/lib/python3.10/dist-packages (from emoji) (4.12.2)\n",
            "Installing collected packages: emoji\n",
            "Successfully installed emoji-2.12.1\n"
          ]
        }
      ]
    },
    {
      "cell_type": "code",
      "source": [
        "# import emoji module\n",
        "import emoji"
      ],
      "metadata": {
        "id": "WW_aFfS7Jh7l"
      },
      "execution_count": 93,
      "outputs": []
    },
    {
      "cell_type": "code",
      "source": [
        "print(emoji.emojize(\":grinning_face_with_big_eyes:\"))\n",
        "print(emoji.emojize(\":winking_face_with_tongue:\"))\n",
        "print(emoji.emojize(\":zipper-mouth_face:\"))\n",
        "print(emoji.emojize(\":grinning_face_with_big_eyes:\"))\n",
        "print(emoji.emojize(\":winking_face_with_tongue:\"))"
      ],
      "metadata": {
        "id": "8qL7tqf5Jm0O",
        "colab": {
          "base_uri": "https://localhost:8080/"
        },
        "outputId": "0d38b957-5965-4a4e-c490-22141b29ab9a"
      },
      "execution_count": 94,
      "outputs": [
        {
          "output_type": "stream",
          "name": "stdout",
          "text": [
            "😃\n",
            "😜\n",
            "🤐\n",
            "😃\n",
            "😜\n"
          ]
        }
      ]
    },
    {
      "cell_type": "code",
      "source": [
        "print(emoji.demojize(\":grinning_face_with_big_eyes:\"))\n",
        "print(emoji.demojize(\":winking_face_with_tongue:\"))\n",
        "print(emoji.demojize(\":zipper-mouth_face:\"))"
      ],
      "metadata": {
        "id": "gL0OGLWH8f9J",
        "colab": {
          "base_uri": "https://localhost:8080/"
        },
        "outputId": "a2c9047f-f88f-447a-f7c5-074429e1e868"
      },
      "execution_count": 95,
      "outputs": [
        {
          "output_type": "stream",
          "name": "stdout",
          "text": [
            ":grinning_face_with_big_eyes:\n",
            ":winking_face_with_tongue:\n",
            ":zipper-mouth_face:\n"
          ]
        }
      ]
    }
  ]
}